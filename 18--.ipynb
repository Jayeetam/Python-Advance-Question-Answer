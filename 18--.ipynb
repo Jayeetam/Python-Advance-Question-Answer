{
 "cells": [
  {
   "cell_type": "markdown",
   "metadata": {},
   "source": [
    "### Q1. Describe the differences between text and binary files in a single paragraph.\n",
    "In a text file, the bits represent character while bits in binary file represent custom data. Unlike binary files, text files are less prone to getting corrupted but can only store text data. Binary files, on the other hand, can also store data like image, audio along with text data.\n",
    "\n",
    "### Q2. What are some scenarios where using text files will be the better option? When would you like to use binary files instead of text files?\n",
    "Text file: In a situation where we want the data to be easily readable to everyone, we choose text files.\n",
    "\n",
    "Binary file: When we want to make some kind of a file which can only read by the machine not by the human then we use binary file. With this file we can store the information in bits. We can only be able to see the final functionality of the file like pdf file, audio file, video files, etc.\n",
    "\n",
    "### Q3. What are some of the issues with using binary operations to read and write a Python integer directly to disc?\n",
    "Binary operations deal with raw data so one needs to identify how many bytes one would read or write.\n",
    "\n",
    "### Q4. Describe a benefit of using the with keyword instead of explicitly opening a file.\n",
    "If a file is opened using the with keyword, then if some exceptions are encountered after opening a file, or at the end of the file it automatically does the closing of the file. So one doesn't need to explicitly close the file as would be case if one explicitly opens it.\n",
    "\n",
    "### Q5. Does Python have the trailing newline while reading a line of text? Does Python append a newline when you write a line of text?\n",
    "The built-in print function in python has the default end parameter as \\n, so a new line character is automatically appended to the string."
   ]
  },
  {
   "cell_type": "markdown",
   "metadata": {},
   "source": [
    "### Q6. What file operations enable for random-access operation?\n",
    "Apart from read(),write(),close(), length(), the file operations like seek(pos,orig), tell() enable random access operations.\n",
    "\n",
    "### Q7. When do you think you'll use the struct package the most?\n",
    "Struct module can be used primarily in order to convert data types like string/number to string of bytes.\n",
    "\n",
    "### Q8. When is pickling the best option?\n",
    "Pickling denotes to storing the data in the binary form to improve functionality or operation of application. It works best in cases when we are creating an AI based application and then we need to load it for deployment.\n",
    "\n",
    "### Q9. When will it be best to use the shelve package?\n",
    "Shelve package is used to pickle data while treating the entire file as a dictionary. The location of any object is searched according to its key and the corresponding value is returned.\n",
    "\n",
    "### Q10. What is a special restriction when using the shelve package, as opposed to using other data dictionaries?\n",
    "One restriction is that string data type can be used as key in this special dictionary object, whereas any picklable Python object can be used as a value."
   ]
  },
  {
   "cell_type": "code",
   "execution_count": null,
   "metadata": {},
   "outputs": [],
   "source": []
  }
 ],
 "metadata": {
  "kernelspec": {
   "display_name": "Python 3",
   "language": "python",
   "name": "python3"
  },
  "language_info": {
   "codemirror_mode": {
    "name": "ipython",
    "version": 3
   },
   "file_extension": ".py",
   "mimetype": "text/x-python",
   "name": "python",
   "nbconvert_exporter": "python",
   "pygments_lexer": "ipython3",
   "version": "3.8.5"
  }
 },
 "nbformat": 4,
 "nbformat_minor": 4
}
