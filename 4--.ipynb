{
 "cells": [
  {
   "cell_type": "markdown",
   "metadata": {},
   "source": [
    "### Q1. Which two operator overloading methods can you use in your classes to support iteration?"
   ]
  },
  {
   "cell_type": "markdown",
   "metadata": {},
   "source": [
    "The two operator overloading methods can you use in your classes to support iteration are : __iter and __getitem. By default __iter is prioratized over __getitem, and returns an object using __next__ method.\n",
    "\n",
    "__getitem is an indexing method, which iterates to higher indexes by repeated calls. In this method 'yield' statement can be used to call the __next method automatically."
   ]
  },
  {
   "cell_type": "markdown",
   "metadata": {},
   "source": [
    "### Q2. In what contexts do the two operator overloading methods manage printing?"
   ]
  },
  {
   "cell_type": "markdown",
   "metadata": {},
   "source": [
    "The two operator overloading methods __str and __repr are used to print displays.\n",
    "\n",
    "__str is called by 'print' and 'str' built-in functions and if __str is not defined, __repr__ is called by 'print' and 'str' built-in functions.\n",
    "\n",
    "If __str is defined, __repr is used everywhere except for 'print' and 'str'. __str is used for brief user friendly display, whereas __repr shows more detailed display or example code form."
   ]
  },
  {
   "cell_type": "markdown",
   "metadata": {},
   "source": [
    "### Q3. In a class, how do you intercept slice operations?"
   ]
  },
  {
   "cell_type": "markdown",
   "metadata": {},
   "source": [
    "Slice operations are intercepted using __getitem method. Instead of an integer index, a slice object (__getitem) can be used according to the problem."
   ]
  },
  {
   "cell_type": "markdown",
   "metadata": {},
   "source": [
    "### Q4. In a class, how do you capture in-place addition?"
   ]
  },
  {
   "cell_type": "markdown",
   "metadata": {},
   "source": [
    " In-place addition is captured using __iadd method. If __iadd is not present, __add is used with an assignment. Same method follows for binary addition. For right side addition, __radd method can be used."
   ]
  },
  {
   "cell_type": "markdown",
   "metadata": {},
   "source": [
    "### Q5. When is it appropriate to use operator overloading?"
   ]
  },
  {
   "cell_type": "markdown",
   "metadata": {},
   "source": [
    "We use operator overloading when a class needs to imitate or naturally matches a built-in type's inteface."
   ]
  },
  {
   "cell_type": "code",
   "execution_count": null,
   "metadata": {},
   "outputs": [],
   "source": []
  }
 ],
 "metadata": {
  "kernelspec": {
   "display_name": "Python 3",
   "language": "python",
   "name": "python3"
  },
  "language_info": {
   "codemirror_mode": {
    "name": "ipython",
    "version": 3
   },
   "file_extension": ".py",
   "mimetype": "text/x-python",
   "name": "python",
   "nbconvert_exporter": "python",
   "pygments_lexer": "ipython3",
   "version": "3.8.5"
  }
 },
 "nbformat": 4,
 "nbformat_minor": 4
}
