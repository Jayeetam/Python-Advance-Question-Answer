{
 "cells": [
  {
   "cell_type": "markdown",
   "metadata": {},
   "source": [
    "### Q1. If you have any, what are your choices for increasing the comparison between different figures on the same graph?\n",
    "For increasing comparision, one can :\n",
    "\n",
    "Change the colors ,i.e., a distinct color for each figure and attach labels to it to make more understandable.\n",
    "\n",
    "Change the pattern of the figures. One can assign a unique pattern for each figure ,e.g., line, dotted , degree of bold,etc. Attach labels along with it for the same reason as above.\n",
    "\n",
    "### Q2. Can you explain the benefit of compound interest over a higher rate of interest that does not compound after reading this chapter?\n",
    "Which chapter? Question isn't clear.\n",
    "\n",
    "### Q3. What is a histogram, exactly? Name a numpy method for creating such a graph.\n",
    "Histogram is a graphical display of data using bars of different heights , where the heights may stand for frequency or the percentile value.\n",
    "\n",
    "numpy.histogram() is a bulit-in numpy function for creating a histogram representation.\n",
    "\n",
    "### Q4. If necessary, how do you change the aspect ratios between the X and Y axes?\n",
    "The aspect ratio can be changed by using figure(figsize=(10,8)) function inside the matplot.pyplot library which we scale down or up the graph.\n",
    "\n",
    "### Q5. Summarize the differences in array multiplication between two arrays, as it is used in these three forms: dot product, outer product, and standard multiplication of two numpy arrays.\n",
    "The standard multiplication multiplies two arrays placewise/positionwise.\n",
    "\n",
    "The dot product does the vector multiplication of two matrices represented as arrays.\n",
    "\n",
    "In outer product, every element of one array will be multiplied by every element of other array such that the number of columns in the output array will be equal to the number of elements in the second array.\n",
    "\n",
    "Below are the examples of each."
   ]
  },
  {
   "cell_type": "code",
   "execution_count": 1,
   "metadata": {},
   "outputs": [
    {
     "name": "stdout",
     "output_type": "stream",
     "text": [
      "Standard: \n",
      " [[ 10  40  90]\n",
      " [160 250 360]\n",
      " [360 490 640]] \n",
      "\n",
      "Dot: \n",
      " [[ 270  330  390]\n",
      " [ 600  750  900]\n",
      " [ 820 1030 1240]] \n",
      "\n",
      "Outer: \n",
      " [[ 10  20  30  40  50  60  60  70  80]\n",
      " [ 20  40  60  80 100 120 120 140 160]\n",
      " [ 30  60  90 120 150 180 180 210 240]\n",
      " [ 40  80 120 160 200 240 240 280 320]\n",
      " [ 50 100 150 200 250 300 300 350 400]\n",
      " [ 60 120 180 240 300 360 360 420 480]\n",
      " [ 60 120 180 240 300 360 360 420 480]\n",
      " [ 70 140 210 280 350 420 420 490 560]\n",
      " [ 80 160 240 320 400 480 480 560 640]]\n"
     ]
    }
   ],
   "source": [
    "import numpy as np\n",
    "\n",
    "a1=np.array([[1,2,3],[4,5,6],[6,7,8]])\n",
    "a2=np.array([[10,20,30],[40,50,60],[60,70,80]])\n",
    "\n",
    "#standard\n",
    "print(\"Standard: \\n\",a1*a2,\"\\n\")\n",
    "\n",
    "#dot\n",
    "print(\"Dot: \\n\",np.dot(a1,a2),\"\\n\")\n",
    "\n",
    "#outer\n",
    "print(\"Outer: \\n\",np.outer(a1,a2))"
   ]
  },
  {
   "cell_type": "markdown",
   "metadata": {},
   "source": [
    "### Q6. Before you buy a home, which numpy function will you use to measure your monthly mortgage payment?\n",
    "One needs to use: np.pmt(rate, nper, pv)\n",
    "\n",
    "where, ate = The periodic interest rate\n",
    "\n",
    "nper = The number of payment periods\n",
    "\n",
    "pv = The total mortgage loan\n",
    "\n",
    "### Q7. Can numpy arrays store string data? If so, state at least one limitation that is imposed on this data.\n",
    "Yes numpy arrays can store string data.The drawback is that the dtype of any such array is the maximum length of any string present in the array. so once assigned, it can only store a new string if it's length is not more than the maximum length at the time the string array was created."
   ]
  },
  {
   "cell_type": "code",
   "execution_count": null,
   "metadata": {},
   "outputs": [],
   "source": []
  }
 ],
 "metadata": {
  "kernelspec": {
   "display_name": "Python 3",
   "language": "python",
   "name": "python3"
  },
  "language_info": {
   "codemirror_mode": {
    "name": "ipython",
    "version": 3
   },
   "file_extension": ".py",
   "mimetype": "text/x-python",
   "name": "python",
   "nbconvert_exporter": "python",
   "pygments_lexer": "ipython3",
   "version": "3.8.5"
  }
 },
 "nbformat": 4,
 "nbformat_minor": 4
}
