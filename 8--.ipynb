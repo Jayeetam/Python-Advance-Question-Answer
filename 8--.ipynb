{
 "cells": [
  {
   "cell_type": "markdown",
   "metadata": {},
   "source": [
    "### Q1. What are the two latest user-defined exception constraints in Python 3.X?\n"
   ]
  },
  {
   "cell_type": "markdown",
   "metadata": {},
   "source": [
    "In python 3.X, exceptions are raised and caught through class instance object. Also, exception class are derived from buit-in class BaseException. To catch all normal exceptions, most programs inherit from Exception subclass."
   ]
  },
  {
   "cell_type": "markdown",
   "metadata": {},
   "source": [
    "### Q2. How are class-based exceptions that have been raised matched to handlers?"
   ]
  },
  {
   "cell_type": "markdown",
   "metadata": {},
   "source": [
    "Class-based exceptions are matched by superclass exceptions. A superclass in an exception handler will catch instances of the class and it's subclasses. So, superclass is like a general exception categories having more specific categories in it's subclass."
   ]
  },
  {
   "cell_type": "markdown",
   "metadata": {},
   "source": [
    "### Q3. Describe two methods for attaching context information to exception artefacts."
   ]
  },
  {
   "cell_type": "markdown",
   "metadata": {},
   "source": [
    "We can create a custom class constructor and attach context information to exception artefacts by fillung out the instance attributes in the class instance.\n",
    "\n",
    "For genral purpose, the built-in exception supeclass can be used as a constructor to arguments in the class instance."
   ]
  },
  {
   "cell_type": "markdown",
   "metadata": {},
   "source": [
    "### Q4. Describe two methods for specifying the text of an exception object&#39;s error message."
   ]
  },
  {
   "cell_type": "markdown",
   "metadata": {},
   "source": [
    "We can use a custom __str__ opertaor overloading to display an exception object's error message. For general purpose, the built-in exception superclass will autometically display anything passed to the class constructor.\n",
    "\n",
    "Also, print and str operations can autometically display the error message through excetion object or by printing the error statement."
   ]
  },
  {
   "cell_type": "markdown",
   "metadata": {},
   "source": [
    "### Q5. Why do you no longer use string-based exceptions?"
   ]
  },
  {
   "cell_type": "markdown",
   "metadata": {},
   "source": [
    "String-based exceptions don't support categories, state information,or behaviour inheritance. So for bigger and complex programms it is not ideal. That's why we use class based exception now."
   ]
  },
  {
   "cell_type": "code",
   "execution_count": null,
   "metadata": {},
   "outputs": [],
   "source": []
  }
 ],
 "metadata": {
  "kernelspec": {
   "display_name": "Python 3",
   "language": "python",
   "name": "python3"
  },
  "language_info": {
   "codemirror_mode": {
    "name": "ipython",
    "version": 3
   },
   "file_extension": ".py",
   "mimetype": "text/x-python",
   "name": "python",
   "nbconvert_exporter": "python",
   "pygments_lexer": "ipython3",
   "version": "3.8.5"
  }
 },
 "nbformat": 4,
 "nbformat_minor": 4
}
