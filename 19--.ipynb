{
 "cells": [
  {
   "cell_type": "markdown",
   "metadata": {},
   "source": [
    "### Q1. Define the relationship between a class and its instances. Is it a one-to-one or a one-to-many partnership, for example?\n",
    "Class is an abstraction of an real world entity used to create objects. It consists of attributes and methods. Instance is an object of a class. It is the one to many relationship between class and its instatnces.\n",
    "\n",
    "### Q2. What kind of data is held only in an instance?\n",
    "Instance holds the values of the class atrributes . It contains the variables which are specific to that specific instance object.\n",
    "\n",
    "### Q3. What kind of knowledge is stored in a class?\n",
    "Class can store any kind of information through it's attributes, methods/functions,etc. But the information inside a class can only be accessed by creating an instance of a class.\n",
    "\n",
    "### Q4. What exactly is a method, and how is it different from a regular function?\n",
    "A method is different from a function in the sense that it is an object of a class. Because of that it can access thr data within and alter the object's state , something which the python function cannot do."
   ]
  },
  {
   "cell_type": "markdown",
   "metadata": {},
   "source": [
    "### Q5. Is inheritance supported in Python, and if so, what is the syntax?"
   ]
  },
  {
   "cell_type": "code",
   "execution_count": 1,
   "metadata": {},
   "outputs": [
    {
     "name": "stdout",
     "output_type": "stream",
     "text": [
      "Class of Instance: <class '__main__.B'>\n",
      "Base class: (<class '__main__.A'>,)\n"
     ]
    }
   ],
   "source": [
    "#Yes inheritance is supported in python.Example:\n",
    "\n",
    "class A:\n",
    "        \n",
    "    def __init__(self):\n",
    "        pass\n",
    "    \n",
    "\n",
    "class B(A): \n",
    "    # class B is inherits class A\n",
    "    \n",
    "    def __init__(self):\n",
    "        super().__init__()\n",
    "        \n",
    "\n",
    "c=B()\n",
    "print(\"Class of Instance:\",c.__class__)\n",
    "print(\"Base class:\",c.__class__.__bases__)"
   ]
  },
  {
   "cell_type": "markdown",
   "metadata": {},
   "source": [
    "### Q6. How much encapsulation (making instance or class variables private) does Python support?\n",
    "Encapsulation is a key aspect in OOP. It prevents accidentally (but not intentionally) accessing variables,methods and modification of data.\n",
    "\n",
    "### Q7. How do you distinguish between a class variable and an instance variable?\n",
    "The class attribute is available to all the instance objects of that class. Instance variable is accessible only to the object or Instance of that class.\n",
    "\n",
    "### Q8. When, if ever, can self be included in a class's method definitions?\n",
    "Self can be included in a class to point to an object itself. It can then be used to access all objects from inside any method by just calling self in the input variable of the method.\n",
    "\n",
    "### Q9. What is the difference between the add and the radd methods?\n",
    "When you add two numbers using the + operator, internally, the add() method will be called.\n",
    "\n",
    "radd() can also add up the two number but radd is only called if the left object does not have an add method, or that method does not know how to add the two objects. If both the classes have add method then radd() won't be called.\n",
    "\n",
    "### Q10. When is it necessary to use a reflection method? When do you not need it, even though you support the operation in question?\n",
    "Reflection enables access to entities in program dynamically. i.e. while coding an application if programmer is unaware about a class or it's attributes and methods, he can use reflection to call the class dynamically (at run time). It is primarily used in cases where a class name changes frequently.\n",
    "\n",
    "### Q11. What is the _ iadd _ method called?\n",
    "It is an inplace add method which is a built-in method. Similar to add, it also adds the two value but unlike that , it stores that value which was calculated. It is used when we use implementation like a+=b which is \"a.iadd(b)\"\n",
    "\n",
    "### Q12. Is the _ init _ method inherited by subclasses? What do you do if you need to customize its behavior within a subclass?\n",
    "init method is inherited by its subclass. But it can be overloaded, to customize it."
   ]
  },
  {
   "cell_type": "code",
   "execution_count": 2,
   "metadata": {},
   "outputs": [
    {
     "name": "stdout",
     "output_type": "stream",
     "text": [
      "10\n",
      "26\n"
     ]
    }
   ],
   "source": [
    "class A:\n",
    "    \n",
    "    def __init__(self,inp):\n",
    "        self.inp=inp\n",
    "\n",
    "class B(A):\n",
    "    pass\n",
    "\n",
    "obj1=B(10)\n",
    "print(obj1.inp)\n",
    "# here the value x is accessible to instance of class B which is subclass of class A.This means\n",
    "\n",
    "\n",
    "# __init__ of class A is inherited in sub class B\n",
    "\n",
    "class C(A):\n",
    "    \n",
    "    def __init__(self,inp1,inp2): # Here we are overloading the __init__ inherited from class A \n",
    "        self.inp1=inp1\n",
    "        self.inp2=inp2\n",
    "    \n",
    "    def func(self):\n",
    "        return(self.inp1+ self.inp2)\n",
    "    \n",
    "obj2=C(12,14)\n",
    "print(obj2.func())"
   ]
  },
  {
   "cell_type": "code",
   "execution_count": null,
   "metadata": {},
   "outputs": [],
   "source": []
  }
 ],
 "metadata": {
  "kernelspec": {
   "display_name": "Python 3",
   "language": "python",
   "name": "python3"
  },
  "language_info": {
   "codemirror_mode": {
    "name": "ipython",
    "version": 3
   },
   "file_extension": ".py",
   "mimetype": "text/x-python",
   "name": "python",
   "nbconvert_exporter": "python",
   "pygments_lexer": "ipython3",
   "version": "3.8.5"
  }
 },
 "nbformat": 4,
 "nbformat_minor": 4
}
