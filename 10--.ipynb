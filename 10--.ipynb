{
 "cells": [
  {
   "cell_type": "markdown",
   "metadata": {},
   "source": [
    "### Q1. What is the difference between __getattr__ and __getattribute__?\n"
   ]
  },
  {
   "cell_type": "markdown",
   "metadata": {},
   "source": [
    " __getattr__ is run for undefined attributes. This is straighforward to use as it's run for attributes not stored on an instance or inherited from it's classes.\n",
    "\n",
    "__getattribute__ is run for every attribute. We have to be careful while using this method as it is all-inclusive. By passing attribute access to superclass we can avoid recursive loop."
   ]
  },
  {
   "cell_type": "markdown",
   "metadata": {},
   "source": [
    "### Q2. What is the difference between properties and descriptors?"
   ]
  },
  {
   "cell_type": "markdown",
   "metadata": {},
   "source": [
    " Property as special roles like using get, set, and delete functions for a specific attribute. Descriptors are more general, apart from providing class for these methods we can use custom methods too. So properties are specific kind of descriptors.\n",
    "\n",
    "In terms of coding, property is created with buit-in methods whereas, descriptors follow OOP. So we can access class properties like inheritance."
   ]
  },
  {
   "cell_type": "markdown",
   "metadata": {},
   "source": [
    "### Q3. What are the key differences in functionality between __getattr__ and __getattribute__, as well as properties and descriptors?"
   ]
  },
  {
   "cell_type": "markdown",
   "metadata": {},
   "source": [
    "__getattr and __getattribute are more generic in catching arbitrarily many attributes. We cannot catch all attributes with a single propety or descriptor.\n",
    "\n",
    "__getattr and __getattribute handle attribute fetchs only , __setattr__ is needed to fetch assignment. Both property and decorators can handle attribute fetch and assignment.\n",
    "\n",
    "In terms of implementation, __getattr and __getattribute are operator overloading methods whereas property and decorators are objects manually assigned to class attributes."
   ]
  },
  {
   "cell_type": "code",
   "execution_count": null,
   "metadata": {},
   "outputs": [],
   "source": []
  }
 ],
 "metadata": {
  "kernelspec": {
   "display_name": "Python 3",
   "language": "python",
   "name": "python3"
  },
  "language_info": {
   "codemirror_mode": {
    "name": "ipython",
    "version": 3
   },
   "file_extension": ".py",
   "mimetype": "text/x-python",
   "name": "python",
   "nbconvert_exporter": "python",
   "pygments_lexer": "ipython3",
   "version": "3.8.5"
  }
 },
 "nbformat": 4,
 "nbformat_minor": 4
}
