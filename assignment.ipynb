{
 "cells": [
  {
   "cell_type": "markdown",
   "metadata": {},
   "source": [
    "## 1. Create a function in python to read the text file and replace specific content of the file."
   ]
  },
  {
   "cell_type": "markdown",
   "metadata": {},
   "source": [
    "### File name: example.txt\n",
    "### Origin file content: This is a placement assignment\n",
    "### Replace string: Placement should be replaced by screening.\n",
    "### Replaced file content: This is a screening assignment"
   ]
  },
  {
   "cell_type": "code",
   "execution_count": 4,
   "metadata": {},
   "outputs": [
    {
     "name": "stdout",
     "output_type": "stream",
     "text": [
      "Requirement already satisfied: pathlib2 in c:\\users\\user\\anaconda3\\lib\\site-packages (2.3.5)\n",
      "Requirement already satisfied: six in c:\\users\\user\\anaconda3\\lib\\site-packages (from pathlib2) (1.15.0)\n",
      "Note: you may need to restart the kernel to use updated packages.\n"
     ]
    }
   ],
   "source": [
    "pip install pathlib2"
   ]
  },
  {
   "cell_type": "code",
   "execution_count": 20,
   "metadata": {},
   "outputs": [
    {
     "name": "stdout",
     "output_type": "stream",
     "text": [
      "Enter the text to be replaced: placement\n",
      "Enter the text to be replaced with: screening\n",
      "Text is replaced\n"
     ]
    }
   ],
   "source": [
    "from pathlib2 import Path\n",
    "def replacetext(a,b):\n",
    "    file = Path(r\"example.txt\")\n",
    "    data = file.read_text()\n",
    "    data = data.replace(a,b)\n",
    "    file.write_text(data)\n",
    "    return \"Text is replaced\"\n",
    "\n",
    "a = input(\"Enter the text to be replaced: \")\n",
    "b = input(\"Enter the text to be replaced with: \")\n",
    "print(replacetext(a,b))"
   ]
  },
  {
   "cell_type": "markdown",
   "metadata": {},
   "source": [
    "## Demonstrate use of abstract class, multiple inheritance and decorator in python using examples."
   ]
  },
  {
   "cell_type": "markdown",
   "metadata": {},
   "source": [
    "Abstract class is a blueprint for other classes. When we are designing large functional units we use an abstract class. If we want to provide a common interface for different implementations of a component, we use an abstract class.  An abstract class is a class, but you can't create objects from it directly. It's purpose is to define how other classes should look like or we can say what methods and properties they are expected to have.\n",
    "\n",
    "The methods and properties defined in an abstract class are called abstract methods and abstract properties. All abstract methods and properties need to be implemented in a child class in order to be able to create objects from it."
   ]
  },
  {
   "cell_type": "code",
   "execution_count": 31,
   "metadata": {},
   "outputs": [
    {
     "name": "stdout",
     "output_type": "stream",
     "text": [
      "Tiger\n",
      "Lion\n",
      "Zebra\n",
      "Monkey\n"
     ]
    }
   ],
   "source": [
    "from abc import ABC, abstractmethod\n",
    "\n",
    "class Animal(ABC):\n",
    "    @abstractmethod\n",
    "    def a(self):\n",
    "        pass\n",
    "\n",
    "class Tiger(Animal):\n",
    "    def a(self):\n",
    "        print(\"Tiger\")\n",
    "\n",
    "class Monkey(Animal):\n",
    "    def a(self):\n",
    "        print(\"Monkey\")\n",
    "\n",
    "class Zebra(Animal):\n",
    "    def a(self):\n",
    "        print(\"Zebra\")\n",
    "\n",
    "class Lion(Animal):\n",
    "    def a(self):\n",
    "        print(\"Lion\")\n",
    "\n",
    "t = Tiger()\n",
    "t.a()\n",
    "\n",
    "l = Lion ()\n",
    "l.a()\n",
    "\n",
    "t = Zebra()\n",
    "t.a()\n",
    "\n",
    "l = Monkey()\n",
    "l.a()"
   ]
  },
  {
   "cell_type": "markdown",
   "metadata": {},
   "source": [
    "A class can be derived from more than one base class in Python. This is called multiple inheritance. Using multiple inheritance we can inherit all the features of the base classes into the derived class. \n",
    "\n",
    "Using multiple inheritance we can override the method in both classes."
   ]
  },
  {
   "cell_type": "code",
   "execution_count": 32,
   "metadata": {},
   "outputs": [
    {
     "name": "stdout",
     "output_type": "stream",
     "text": [
      "In B\n"
     ]
    }
   ],
   "source": [
    "class A:\n",
    "    def m(self):\n",
    "        print(\"In A\")\n",
    "    \n",
    "class B(A):\n",
    "    def m(self):\n",
    "        print(\"In B\")\n",
    "\n",
    "class C(A):\n",
    "    def m(self):\n",
    "        print(\"In C\")\n",
    "\n",
    "class D(B,C):\n",
    "    pass\n",
    "\n",
    "objct1 = D()\n",
    "objct1.m()\n"
   ]
  },
  {
   "cell_type": "markdown",
   "metadata": {},
   "source": [
    "Decorators used to modify the behaviour of function or class. Using decorators we can  wrap another function in order to extend the behaviour of the wrapped function without permanently modifying it. Decorators are used to modify the behaviour of function or class. In Decorators, functions are taken as the argument into another function and then called inside the wrapper function."
   ]
  },
  {
   "cell_type": "code",
   "execution_count": 33,
   "metadata": {},
   "outputs": [
    {
     "name": "stdout",
     "output_type": "stream",
     "text": [
      "Hello, this is before function execution\n",
      "This is inside the function !!\n",
      "This is after function execution\n"
     ]
    }
   ],
   "source": [
    "def decorator(func):\n",
    "    def a():\n",
    "        print(\"Hello, this is before function execution\")\n",
    "        func()\n",
    "        print(\"This is after function execution\")\n",
    "    return a\n",
    "\n",
    "def b():\n",
    "    print(\"This is inside the function !!\")\n",
    "    \n",
    "b = decorator(b)\n",
    "b()"
   ]
  },
  {
   "cell_type": "code",
   "execution_count": null,
   "metadata": {},
   "outputs": [],
   "source": []
  }
 ],
 "metadata": {
  "kernelspec": {
   "display_name": "Python 3",
   "language": "python",
   "name": "python3"
  },
  "language_info": {
   "codemirror_mode": {
    "name": "ipython",
    "version": 3
   },
   "file_extension": ".py",
   "mimetype": "text/x-python",
   "name": "python",
   "nbconvert_exporter": "python",
   "pygments_lexer": "ipython3",
   "version": "3.8.5"
  }
 },
 "nbformat": 4,
 "nbformat_minor": 4
}
