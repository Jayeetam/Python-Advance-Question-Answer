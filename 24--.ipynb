{
 "cells": [
  {
   "cell_type": "markdown",
   "metadata": {},
   "source": [
    "### Q1. Is it permissible to use several import statements to import the same module? What would the goal be? Can you think of a situation where it would be beneficial?\n",
    "Yes it is permissible but not essentially needed unless the modules has a range submodules with long names. In that case, the modules could be imported . e.g.,\n",
    "\n",
    "from sklearn.preprocessing import LabelEncoder\n",
    "\n",
    "from sklearn.linear_model import LinearRegression\n",
    "\n",
    "### Q2. What are some of a modules characteristics? (Name at least one.)\n",
    "Module has the following characteristics:\n",
    "\n",
    "contain info, processing logic, and data.\n",
    "can be separately compiled and stored in a library.\n",
    "can be used by invoking a name and some parameters.\n",
    "### Q3. Circular importing, such as when two modules import each other, can lead to dependencies and bugs that aren't visible. How can you go about creating a program that avoids mutual importing?\n",
    "Circular importing is created with the import statement. In the documentation, it is suggested to use import X, instead of other statements, such as from module import *, or from module import x,y,z.\n",
    "\n",
    "### Q4. Why is _ all _ in Python?\n",
    "It specifies all the modules present in the particular library.\n",
    "\n",
    "### Q5. In what situation is it useful to refer to the _ name attribute or the string main _?\n",
    "While reading a file, the name variable is set as main if the module being run, or as the module's name if it is imported. Reading the file executes all top level code except functions and classes since they will only get imported/called.\n",
    "\n",
    "### Q6. What are some of the benefits of attaching a program counter to the RPN interpreter application, which interprets an RPN script line by line?"
   ]
  },
  {
   "cell_type": "markdown",
   "metadata": {},
   "source": [
    "### Q7. What are the minimum expressions or statements (or both) that you'd need to render a basic programming language like RPN primitive but complete— that is, capable of carrying out any computerised task theoretically possible?"
   ]
  },
  {
   "cell_type": "code",
   "execution_count": null,
   "metadata": {},
   "outputs": [],
   "source": []
  }
 ],
 "metadata": {
  "kernelspec": {
   "display_name": "Python 3",
   "language": "python",
   "name": "python3"
  },
  "language_info": {
   "codemirror_mode": {
    "name": "ipython",
    "version": 3
   },
   "file_extension": ".py",
   "mimetype": "text/x-python",
   "name": "python",
   "nbconvert_exporter": "python",
   "pygments_lexer": "ipython3",
   "version": "3.8.5"
  }
 },
 "nbformat": 4,
 "nbformat_minor": 4
}
