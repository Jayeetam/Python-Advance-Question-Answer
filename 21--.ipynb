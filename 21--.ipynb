{
 "cells": [
  {
   "cell_type": "markdown",
   "metadata": {},
   "source": [
    "### Q1. What is a probability distribution, exactly? If the values are meant to be random, how can you predict them at all?\n",
    "A probability distribution is a type of distribution in which a variable is distributed based on the probability of it's occurence among other variables.\n",
    "\n",
    "Based on the number of the occurences of the random event or the probality density function, we can predict the outcome in terms of probabilities.\n",
    "\n",
    "### Q2. Is there a distinction between true random numbers and pseudo-random numbers, if there is one? Why are the latter considered “good enough”?\n",
    "TRNs are unpredictable physical values like atmospheric noise, interstellar dust,etc.. while PRN are generated using mathematical algorithms like computer generated values.\n",
    "\n",
    "The PRNs are good enough as they can be made to follow a certain type of distribution like uniform,gaussian,etc depending on the problem.\n",
    "\n",
    "### Q3. What are the two main factors that influence the behaviour of a \"normal\" probability distribution?\n",
    "The two main factors are the two parameters, the mean and the variance, which determine the normal distribution. When mean=0 and standard deviation=1, we call it the standard normal distribution.\n",
    "\n",
    "### Q4. Provide a real-life example of a normal distribution\n",
    "distribution of playing cards\n",
    "\n",
    "### Q5. In the short term, how can you expect a probability distribution to behave? What do you think will happen as the number of trials grows?\n",
    "In short term that is when the number of trials are less, the variance/error will be be high. As the trial increases, variance will reduce. In most cases after a certain point, the variance will reduce very very slowly no matter how big the trials get.\n",
    "\n",
    "### Q6. What kind of object can be shuffled by using random.shuffle?\n",
    "list"
   ]
  },
  {
   "cell_type": "markdown",
   "metadata": {},
   "source": [
    "### Q7. Describe the math package's general categories of functions.\n",
    "Trigonometric and periodic : sine, cosine, etc.\n",
    "Arithmetic and Quadratic : sqrt(x),pow(x,y)\n",
    "Exponential and Logarthmic\n",
    "Conversions to integer\n",
    "### Q8. What is the relationship between exponentiation and logarithms?\n",
    "Exponential function is given by : y=exp(x) or e^x\n",
    "\n",
    "Logarthmic function is given by : y=log x or y=ln x with base=10 and e respectively.\n",
    "\n",
    "So if y is an exponential function of x : y=e^x then x is a logarthmic function of y: x=ln y.\n",
    "\n",
    "In short: logarthmic of exponent of a value is the value itself and vice-versa. ,i.e., ln(exp(x))=exp(ln(x))=x\n",
    "\n",
    "### Q9. What are the three logarithmic functions that Python supports?\n",
    "log2(x) - logarithmic value of x to base 2\n",
    "log10(x) - logarithmic value of x to base 10\n",
    "log(x,base) - logarithmic value of x to base. If only first parameter is given , it computes the natural logarithm (base=e)\n",
    "log1p(x) - natural logarithm (base e) value of 1+x"
   ]
  },
  {
   "cell_type": "code",
   "execution_count": null,
   "metadata": {},
   "outputs": [],
   "source": []
  }
 ],
 "metadata": {
  "kernelspec": {
   "display_name": "Python 3",
   "language": "python",
   "name": "python3"
  },
  "language_info": {
   "codemirror_mode": {
    "name": "ipython",
    "version": 3
   },
   "file_extension": ".py",
   "mimetype": "text/x-python",
   "name": "python",
   "nbconvert_exporter": "python",
   "pygments_lexer": "ipython3",
   "version": "3.8.5"
  }
 },
 "nbformat": 4,
 "nbformat_minor": 4
}
