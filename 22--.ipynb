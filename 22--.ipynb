{
 "cells": [
  {
   "cell_type": "markdown",
   "metadata": {},
   "source": [
    "### Q1. What are the benefits of the built-in array package, if any?\n",
    "Arrays can contain multiple data items of the same type.\n",
    "One can get the elements just by using the corresponding index.\n",
    "Arrays don't cause memory overflow because they allocate memory in contiguous memory locations for all its elements. There is no need for extra memory.\n",
    "### Q2. What are some of the array package's limitations?\n",
    "The size of the array needs to be specified before allocation.\n",
    "\n",
    "Since it has a static structure, the size of the array , once specified, cannot be changed.\n",
    "\n",
    "Insertion and deletion are difficult and swapping and shifting operations are expensive.\n",
    "\n",
    "### Q3. Describe the main differences between the array and numpy packages.\n",
    "NumPy offers a large variety of numerical operations while the array does not.\n",
    "\n",
    "Access or append operation in a numpy takes longer time than an array.\n",
    "\n",
    "Numpy forms a tabular structure while the array does not.\n",
    "\n",
    "### Q4. Explain the distinctions between the empty, ones, and zeros functions\n",
    "An empty function does not carry any statement within its body. To write a function definition without any statement in python will give an error. This can be avoided if one uses the pass statement. It is a special dummy statement in Python.\n",
    "\n",
    "Ones function returns a new array of given shape and data type, where the value of all the elements being 1.\n",
    "\n",
    "Zeros function returns a new array of given shape and data type, where the common value of all elements is 0."
   ]
  },
  {
   "cell_type": "markdown",
   "metadata": {},
   "source": [
    "### Q5. In the fromfunction function, which is used to construct new arrays, what is the role of the callable argument?\n",
    "The role of the callable argument is to execute the function over each coordinate and the output array. The function is called with N parameters, where N is the rank of shape. Each parameter represents the coordinates of the array along different axis.\n",
    "\n",
    "### Q6. What happens when a numpy array is combined with a single-value operand (a scalar, such as an int or a floating-point value) through addition, as in the expression A + n?\n",
    "If a scalar is added to a numpy array, then all the elements inside that array will have that value added to them, irrespective of the shape and size of the array.\n",
    "\n",
    "### Q7. Can array-to-scalar operations use combined operation-assign operators (such as += or *=)? What is the outcome?\n",
    "Yes they can. In that case, the scalar-operation will be applied on each and every element in that array."
   ]
  },
  {
   "cell_type": "code",
   "execution_count": 1,
   "metadata": {},
   "outputs": [],
   "source": [
    "import numpy as np\n",
    "arr=np.arange(10,70,10).reshape(2,3)"
   ]
  },
  {
   "cell_type": "code",
   "execution_count": 2,
   "metadata": {},
   "outputs": [
    {
     "data": {
      "text/plain": [
       "array([[10, 20, 30],\n",
       "       [40, 50, 60]])"
      ]
     },
     "execution_count": 2,
     "metadata": {},
     "output_type": "execute_result"
    }
   ],
   "source": [
    "arr"
   ]
  },
  {
   "cell_type": "code",
   "execution_count": 3,
   "metadata": {},
   "outputs": [
    {
     "data": {
      "text/plain": [
       "array([[11, 21, 31],\n",
       "       [41, 51, 61]])"
      ]
     },
     "execution_count": 3,
     "metadata": {},
     "output_type": "execute_result"
    }
   ],
   "source": [
    "arr+=1\n",
    "arr"
   ]
  },
  {
   "cell_type": "code",
   "execution_count": 4,
   "metadata": {},
   "outputs": [
    {
     "data": {
      "text/plain": [
       "array([[ 55, 105, 155],\n",
       "       [205, 255, 305]])"
      ]
     },
     "execution_count": 4,
     "metadata": {},
     "output_type": "execute_result"
    }
   ],
   "source": [
    "arr*=5\n",
    "arr"
   ]
  },
  {
   "cell_type": "markdown",
   "metadata": {},
   "source": [
    "### Q8. Does a numpy array contain fixed-length strings? What happens if you allocate a longer string to one of these arrays?\n",
    "numpy array can contain fixed-length strings. The dtype of such an array is the maximum length of any string present in the array.\n",
    "\n",
    "Once set, it can store new string values having length not exceeding the maximum length at the time of the creation. If one tries to reallocate a string value having length greater than the maximum length of the existing elements, then it simply discards all the character values in the string beyond the maximum length and takes upto those that are under the threshold."
   ]
  },
  {
   "cell_type": "code",
   "execution_count": 5,
   "metadata": {},
   "outputs": [],
   "source": [
    "arr=np.array([\"Jacko\",\"Jill\",\"Up\",\"Down\"])"
   ]
  },
  {
   "cell_type": "code",
   "execution_count": 6,
   "metadata": {},
   "outputs": [],
   "source": [
    "arr[arr==\"Jill\"]=\"Hickory\""
   ]
  },
  {
   "cell_type": "code",
   "execution_count": 7,
   "metadata": {},
   "outputs": [
    {
     "data": {
      "text/plain": [
       "array(['Jacko', 'Hicko', 'Up', 'Down'], dtype='<U5')"
      ]
     },
     "execution_count": 7,
     "metadata": {},
     "output_type": "execute_result"
    }
   ],
   "source": [
    "arr"
   ]
  },
  {
   "cell_type": "markdown",
   "metadata": {},
   "source": [
    "### Q9. What happens when you combine two numpy arrays using an operation like addition (+) or multiplication (*)? What are the conditions for combining two numpy arrays?\n",
    "The operation will be one-to-one operation applied to the corresponding elements sharing a common index.\n",
    "\n",
    "The conditions are:\n",
    "\n",
    "The data type both the arrays should be same.\n",
    "Shape of both the arrays need to be same.\n",
    "### Q10. What is the best way to use a Boolean array to mask another array?"
   ]
  },
  {
   "cell_type": "code",
   "execution_count": 8,
   "metadata": {},
   "outputs": [
    {
     "name": "stdout",
     "output_type": "stream",
     "text": [
      "[True, True, False, True, masked, masked]\n"
     ]
    }
   ],
   "source": [
    "bool = np.array([True,True,False,True,False,True])          \n",
    "x = np.array([1,2,3,4,5,6])         \n",
    "mask = np.ma.masked_where(x**2>19,bool)  \n",
    "print(list(mask))"
   ]
  },
  {
   "cell_type": "markdown",
   "metadata": {},
   "source": [
    "### Q11. What are three different ways to get the standard deviation of a wide collection of data using both standard Python and its packages? Sort the three of them by how quickly they execute."
   ]
  },
  {
   "cell_type": "code",
   "execution_count": 9,
   "metadata": {},
   "outputs": [
    {
     "name": "stdout",
     "output_type": "stream",
     "text": [
      "[0 1 2 3 4 5 6 7 8]\n",
      "Standard deviation :  2.581988897471611\n"
     ]
    }
   ],
   "source": [
    "#Using math module\n",
    "\n",
    "import math\n",
    "arr=np.arange(9)\n",
    "print(arr)\n",
    "avg=np.mean(arr)\n",
    "N=len(arr)\n",
    "sum=0\n",
    "for i in arr:\n",
    "    sum=sum+(i-avg)**2\n",
    "SD=math.sqrt(sum/N)\n",
    "print(\"Standard deviation : \",SD)"
   ]
  },
  {
   "cell_type": "code",
   "execution_count": 10,
   "metadata": {},
   "outputs": [
    {
     "name": "stdout",
     "output_type": "stream",
     "text": [
      "Standard deviation :  2.581988897471611\n"
     ]
    }
   ],
   "source": [
    "#Arithmetics\n",
    "SD= (sum/N)**0.5\n",
    "print(\"Standard deviation : \",SD)"
   ]
  },
  {
   "cell_type": "code",
   "execution_count": 11,
   "metadata": {},
   "outputs": [
    {
     "name": "stdout",
     "output_type": "stream",
     "text": [
      "Standard deviation :  2.581988897471611\n"
     ]
    }
   ],
   "source": [
    "#Using Numpy Array package\n",
    "\n",
    "SD=np.std(arr)\n",
    "print(\"Standard deviation : \",SD)"
   ]
  },
  {
   "cell_type": "markdown",
   "metadata": {},
   "source": [
    "### 12. What is the dimensionality of a Boolean mask-generated array?\n",
    "It will be same as that of the original non-masked array."
   ]
  },
  {
   "cell_type": "code",
   "execution_count": 12,
   "metadata": {},
   "outputs": [
    {
     "name": "stdout",
     "output_type": "stream",
     "text": [
      "Dimension of input array :  1\n",
      "Dimension of masked array :  1\n"
     ]
    }
   ],
   "source": [
    "bool = np.array([True,True,False,True,False,True])          \n",
    "x = np.array([1,2,3,4,5,6])         \n",
    "mask = np.ma.masked_where(x**2>19,bool)  \n",
    "print(\"Dimension of input array : \", x.ndim)\n",
    "print(\"Dimension of masked array : \", mask.ndim)"
   ]
  },
  {
   "cell_type": "code",
   "execution_count": null,
   "metadata": {},
   "outputs": [],
   "source": []
  }
 ],
 "metadata": {
  "kernelspec": {
   "display_name": "Python 3",
   "language": "python",
   "name": "python3"
  },
  "language_info": {
   "codemirror_mode": {
    "name": "ipython",
    "version": 3
   },
   "file_extension": ".py",
   "mimetype": "text/x-python",
   "name": "python",
   "nbconvert_exporter": "python",
   "pygments_lexer": "ipython3",
   "version": "3.8.5"
  }
 },
 "nbformat": 4,
 "nbformat_minor": 4
}
