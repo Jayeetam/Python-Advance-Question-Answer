{
 "cells": [
  {
   "cell_type": "markdown",
   "metadata": {},
   "source": [
    "### Q1. Explain the difference between greedy and non-greedy syntax with visual terms in as few words as possible. What is the bare minimum effort required to transform a greedy pattern into a non-greedy one? What characters or characters can you introduce or change?\n"
   ]
  },
  {
   "cell_type": "markdown",
   "metadata": {},
   "source": [
    "The greedy match tries to match maximum number of possible repetitions of the quantified pattern. The non-greedy match matches minimum number of possible repetitions of the quantified pattern."
   ]
  },
  {
   "cell_type": "code",
   "execution_count": 1,
   "metadata": {},
   "outputs": [
    {
     "name": "stdout",
     "output_type": "stream",
     "text": [
      "['a', 'a', 'a', 'a', '']\n",
      "['', 'a', '', 'a', '', 'a', '', 'a', '']\n"
     ]
    }
   ],
   "source": [
    "import re\n",
    "print(re.findall('a?', 'aaaa'))\n",
    "print(re.findall('a??', 'aaaa'))"
   ]
  },
  {
   "cell_type": "markdown",
   "metadata": {},
   "source": [
    "In the first instance, we use the zero-or-one version 'a?'. It’s greedy so it matches longest possible string,i.e., one 'a' character if possible.\n",
    "\n",
    "In the second instance, you use the non-greedy zero-or-one version 'a??'. Sp it matches zero 'a's (shortest possible string).\n",
    "\n",
    "Changing ? to ?? can change greedy to non greedy regex. Similarly, other small changes can be made."
   ]
  },
  {
   "cell_type": "markdown",
   "metadata": {},
   "source": [
    "### Q2. When exactly does greedy versus non-greedy make a difference? What if you're looking for a non-greedy match but the only one available is greedy?\n",
    "We can use filtering or pattern matching methods of regex if non-greedy is not available."
   ]
  },
  {
   "cell_type": "markdown",
   "metadata": {},
   "source": [
    "### Q3. In a simple match of a string, which looks only for one match and does not do any replacement, is the use of a nontagged group likely to make any practical difference?\n",
    "The non tagged group will not make any diffrence in this case."
   ]
  },
  {
   "cell_type": "code",
   "execution_count": 2,
   "metadata": {},
   "outputs": [
    {
     "name": "stdout",
     "output_type": "stream",
     "text": [
      "Ph No found: 785\n",
      "Ph No found: 785\n"
     ]
    }
   ],
   "source": [
    "import re\n",
    "pn = re.compile(r'\\d\\d\\d')\n",
    "mo = pn.search('My number is 785-999-1576.')\n",
    "print('Ph No found: ' + mo.group()) # non tagged group\n",
    "print('Ph No found: ' + mo.group(0))"
   ]
  },
  {
   "cell_type": "markdown",
   "metadata": {},
   "source": [
    "### Q4. Describe a scenario in which using a nontagged category would have a significant impact on the program's outcomes."
   ]
  },
  {
   "cell_type": "code",
   "execution_count": 3,
   "metadata": {},
   "outputs": [
    {
     "data": {
      "text/plain": [
       "('135', '135')"
      ]
     },
     "execution_count": 3,
     "metadata": {},
     "output_type": "execute_result"
    }
   ],
   "source": [
    "import re\n",
    "string='135.135'\n",
    "pattern=r'(\\d+)(?:.)(\\d+)'\n",
    "reg=re.compile(pattern)\n",
    "match=reg.search(string)\n",
    "match.groups()"
   ]
  },
  {
   "cell_type": "markdown",
   "metadata": {},
   "source": [
    "Here the decimal \".\" is not tagged or captured. It will useful in scenarios where the separator of value in a string is of no use and we need to capture only the values."
   ]
  },
  {
   "cell_type": "markdown",
   "metadata": {},
   "source": [
    "### Q5. Unlike a normal regex pattern, a look-ahead condition does not consume the characters it examines. Describe a situation in which this could make a difference in the results of your programme.\n",
    "In cases where we need the count of the number of multiple lines or sentences in a string, the positive look ahead makes a difference over normal regex pattern, by giving us the correct count."
   ]
  },
  {
   "cell_type": "markdown",
   "metadata": {},
   "source": [
    "### Q6. In standard expressions, what is the difference between positive look-ahead and negative look- ahead?\n",
    "Positive look ahead is an assertion continuing the search and extending the string. e.g.pattern= r'abc(?=[A-Z])''.Here after 'abc', ? is extending the search and says that in the remaining string, first identify the next charater should be capitalized character between A and Z, but doesnt consume it.\n",
    "\n",
    "Negative look head is also an assertion to exclude certain patterns. e.g. pattern = r'abc(?!abc)', means identify a substring containing'abc' which is not followed by another 'abc'"
   ]
  },
  {
   "cell_type": "markdown",
   "metadata": {},
   "source": [
    "### Q7. What is the benefit of referring to groups by name rather than by number in a standard expression?\n",
    "The first benefit is the code structure is clear. Secondly , it is easier to maintain the code."
   ]
  },
  {
   "cell_type": "markdown",
   "metadata": {},
   "source": [
    "### Q8. Can you identify repeated items within a target string using named groups, as in \"The cow jumped over the moon\"?"
   ]
  },
  {
   "cell_type": "code",
   "execution_count": 4,
   "metadata": {},
   "outputs": [
    {
     "data": {
      "text/plain": [
       "['The', 'the']"
      ]
     },
     "execution_count": 4,
     "metadata": {},
     "output_type": "execute_result"
    }
   ],
   "source": [
    "import re\n",
    "text = \"The cow jumped over the moon\"\n",
    "findrep=re.compile(r'(?P<w1>The)',re.I)\n",
    "findrep.findall(text)"
   ]
  },
  {
   "cell_type": "markdown",
   "metadata": {},
   "source": [
    "### Q10. Does a scanner object have to be named scanner?\n",
    "No it doesn't. It can be assigned any name."
   ]
  },
  {
   "cell_type": "code",
   "execution_count": null,
   "metadata": {},
   "outputs": [],
   "source": []
  }
 ],
 "metadata": {
  "kernelspec": {
   "display_name": "Python 3",
   "language": "python",
   "name": "python3"
  },
  "language_info": {
   "codemirror_mode": {
    "name": "ipython",
    "version": 3
   },
   "file_extension": ".py",
   "mimetype": "text/x-python",
   "name": "python",
   "nbconvert_exporter": "python",
   "pygments_lexer": "ipython3",
   "version": "3.8.5"
  }
 },
 "nbformat": 4,
 "nbformat_minor": 4
}
